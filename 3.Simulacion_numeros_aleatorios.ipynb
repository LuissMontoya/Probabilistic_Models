{
  "cells": [
    {
      "cell_type": "markdown",
      "id": "ghGtCpw2dZ3S",
      "metadata": {
        "id": "ghGtCpw2dZ3S"
      },
      "source": [
        "##Librerias"
      ]
    },
    {
      "cell_type": "code",
      "execution_count": 159,
      "id": "47Sp1afpdXRz",
      "metadata": {
        "id": "47Sp1afpdXRz"
      },
      "outputs": [],
      "source": [
        "import math\n",
        "import time\n",
        "import matplotlib.pyplot as plt"
      ]
    },
    {
      "cell_type": "markdown",
      "id": "0sw376l3xLXv",
      "metadata": {
        "id": "0sw376l3xLXv"
      },
      "source": [
        "Continuos Methods: Mean Square "
      ]
    },
    {
      "cell_type": "code",
      "execution_count": 160,
      "id": "K5WAHNwPxKbF",
      "metadata": {
        "id": "K5WAHNwPxKbF"
      },
      "outputs": [],
      "source": [
        "def meanSquare(seed, n, show=False):\n",
        "    if seed < 1000 or seed > 9999:\n",
        "        return\n",
        "\n",
        "    random_numbers = []\n",
        "\n",
        "    for i in range(n):\n",
        "        seed_squared = seed**2\n",
        "        str_seed_squared = str(seed_squared)\n",
        "        long_square_seed = len(str_seed_squared)\n",
        "\n",
        "        sub_str = \"\"\n",
        "\n",
        "        if(long_square_seed < 8):\n",
        "            aux_long_square_seed = 0\n",
        "            while aux_long_square_seed < 8:\n",
        "                str_seed_squared = \"0\" + str_seed_squared\n",
        "                aux_long_square_seed = len(str_seed_squared)\n",
        "\n",
        "        sub_str = str_seed_squared[2:6]\n",
        "        value = int(sub_str)\n",
        "        random = value / 10000\n",
        "\n",
        "        if(show):\n",
        "            print(\n",
        "                f'INFO: {i}. Seed Xo: {seed}  Xo²: {str_seed_squared}  Long: {long_square_seed}  pseudorandom: {value}  Random Ri: {random}')\n",
        "\n",
        "        seed = value\n",
        "        random_numbers.append(random)\n",
        "        if value == 0:\n",
        "            break\n",
        "\n",
        "    return random_numbers"
      ]
    },
    {
      "cell_type": "markdown",
      "id": "OJgcGtF5ZppD",
      "metadata": {
        "id": "OJgcGtF5ZppD"
      },
      "source": [
        "Continuos Methods: Mixed Congruential Method"
      ]
    },
    {
      "cell_type": "code",
      "execution_count": 161,
      "id": "RkB9VvzIdRxB",
      "metadata": {
        "id": "RkB9VvzIdRxB"
      },
      "outputs": [],
      "source": [
        "def mixedCongruentialMethod(xo_seed = 5, m_module = 2**4,c_additive_constant = 7, a_multiplier = 5,to = 10):\n",
        "    xn1 = 0\n",
        "    pseudo = 0\n",
        "    numbers = []\n",
        "\n",
        "    for _ in range(to):\n",
        "        xo_seed = a_multiplier * xo_seed + c_additive_constant\n",
        "        xn1 = xo_seed % m_module\n",
        "        pseudo = (xn1 + 0.5) / m_module\n",
        "\n",
        "        if(pseudo < 0):\n",
        "            pseudo *=(-1)\n",
        "            \n",
        "        #print(f\"INFO: {i+1} - {pseudo}\")\n",
        "        numbers.append(pseudo)\n",
        "    return numbers"
      ]
    },
    {
      "cell_type": "markdown",
      "id": "uQL_e-w0ySTh",
      "metadata": {
        "id": "uQL_e-w0ySTh"
      },
      "source": [
        "\n",
        "Continuos Discreet: Bernoulli distribution"
      ]
    },
    {
      "cell_type": "code",
      "execution_count": 162,
      "id": "8cam9cbydRn0",
      "metadata": {
        "id": "8cam9cbydRn0"
      },
      "outputs": [],
      "source": [
        "def probabilityFunction(Ri, pe, pf):\n",
        "    p0 = pow(pe,0) * pow((1- pe),1-0)\n",
        "    p1 = pow(pf,1) * pow((1- pf),1-1)\n",
        "    return [p0,p1]"
      ]
    },
    {
      "cell_type": "code",
      "execution_count": 163,
      "id": "MbyB10ARdRvQ",
      "metadata": {
        "id": "MbyB10ARdRvQ"
      },
      "outputs": [],
      "source": [
        "def generateXi(Ri, P0):#Generar los xi\n",
        "    xi= []\n",
        "    for i in range(len(Ri)):\n",
        "        if (Ri[i] >= 0.0 and Ri[i] <= (1-P0)):\n",
        "            xi.append(0)\n",
        "        else:\n",
        "            xi.append(1)\n",
        "    return xi"
      ]
    },
    {
      "cell_type": "code",
      "execution_count": 164,
      "id": "D84SqQ8PtsLQ",
      "metadata": {
        "id": "D84SqQ8PtsLQ"
      },
      "outputs": [],
      "source": [
        "def results():\n",
        "    print(60*'-')\n",
        "    print('X\\t\\t 0 \\t\\t1')\n",
        "    print(f'P(X)\\t\\t{(1-P0)}\\t\\t{P1}')\n",
        "    print(f'P(X)\\t\\t{(1-P0)}\\t\\t',((1-P0)+P1))\n",
        "    print('\\n')\n",
        "    print(60*'-')\n",
        "    print('N°\\t\\tRi\\t\\tXi\\t\\tEvento')\n",
        "    print(60*'-')\n",
        "    for i in range(len(Ri)):\n",
        "      res = 'No Falla' if Xi[i]== 0 else 'Falla'\n",
        "      print(f'{(i+1)}\\t\\t{Ri[i]}\\t\\t{Xi[i]}\\t\\t{res}') "
      ]
    },
    {
      "cell_type": "code",
      "execution_count": 165,
      "id": "0d8c2f7e",
      "metadata": {},
      "outputs": [],
      "source": [
        "def histogram(data, txt):\n",
        "    plt.hist (data,  color=\"gray\", ec=\"black\")\n",
        "    plt.title('Números '+txt)\n",
        "    plt.xlabel(\"xi\")\n",
        "    plt.ylabel (\"Probability\")\n",
        "    plt.show()"
      ]
    },
    {
      "cell_type": "code",
      "execution_count": 166,
      "id": "a90901ab",
      "metadata": {},
      "outputs": [],
      "source": [
        "def scatter(data,txt):\n",
        "  x = [i for i in range(len(data))]\n",
        "  y = data\n",
        "  plt.figure(figsize=(6, 4))\n",
        "  plt.scatter(x, y,color=\"blue\")\n",
        "  plt.title('Números '+txt)\n",
        "  plt.xlabel(\"Ri\")\n",
        "  plt.ylabel (\"Probability\")\n",
        "  plt.show()"
      ]
    },
    {
      "cell_type": "markdown",
      "id": "C6xkxctxgJSU",
      "metadata": {
        "id": "C6xkxctxgJSU"
      },
      "source": [
        "## Results"
      ]
    },
    {
      "cell_type": "markdown",
      "id": "Czm9r6Ftxwe5",
      "metadata": {
        "id": "Czm9r6Ftxwe5"
      },
      "source": [
        "Continuos"
      ]
    },
    {
      "cell_type": "code",
      "execution_count": 167,
      "id": "9HtW3UUPxuns",
      "metadata": {
        "colab": {
          "base_uri": "https://localhost:8080/"
        },
        "id": "9HtW3UUPxuns",
        "outputId": "24580593-1893-4d5a-d055-2e1845e5b29b"
      },
      "outputs": [
        {
          "name": "stdout",
          "output_type": "stream",
          "text": [
            "INFO: 0. Seed Xo: 2277  Xo²: 05184729  Long: 7  pseudorandom: 1847  Random Ri: 0.1847\n",
            "INFO: 1. Seed Xo: 1847  Xo²: 03411409  Long: 7  pseudorandom: 4114  Random Ri: 0.4114\n",
            "INFO: 2. Seed Xo: 4114  Xo²: 16924996  Long: 8  pseudorandom: 9249  Random Ri: 0.9249\n",
            "INFO: 3. Seed Xo: 9249  Xo²: 85544001  Long: 8  pseudorandom: 5440  Random Ri: 0.544\n",
            "INFO: 4. Seed Xo: 5440  Xo²: 29593600  Long: 8  pseudorandom: 5936  Random Ri: 0.5936\n",
            "INFO: 5. Seed Xo: 5936  Xo²: 35236096  Long: 8  pseudorandom: 2360  Random Ri: 0.236\n",
            "INFO: 6. Seed Xo: 2360  Xo²: 05569600  Long: 7  pseudorandom: 5696  Random Ri: 0.5696\n",
            "INFO: 7. Seed Xo: 5696  Xo²: 32444416  Long: 8  pseudorandom: 4444  Random Ri: 0.4444\n",
            "INFO: 8. Seed Xo: 4444  Xo²: 19749136  Long: 8  pseudorandom: 7491  Random Ri: 0.7491\n",
            "INFO: 9. Seed Xo: 7491  Xo²: 56115081  Long: 8  pseudorandom: 1150  Random Ri: 0.115\n"
          ]
        },
        {
          "data": {
            "image/png": "[encoded data removed]",
            "text/plain": [
              "<Figure size 432x288 with 1 Axes>"
            ]
          },
          "metadata": {
            "needs_background": "light"
          },
          "output_type": "display_data"
        },
        {
          "data": {
            "image/png": "[encoded data removed]",
            "text/plain": [
              "<Figure size 432x288 with 1 Axes>"
            ]
          },
          "metadata": {
            "needs_background": "light"
          },
          "output_type": "display_data"
        }
      ],
      "source": [
        "R_i = meanSquare(2277,10,True)\n",
        "histogram(R_i, txt='pseudoaleatorios Continuos')\n",
        "scatter(R_i,txt='pseudoaleatorios Continuos')"
      ]
    },
    {
      "cell_type": "markdown",
      "id": "E9jKOf3AyDbU",
      "metadata": {
        "id": "E9jKOf3AyDbU"
      },
      "source": [
        "Discreet"
      ]
    },
    {
      "cell_type": "code",
      "execution_count": 168,
      "id": "ssyOE4vFuhLA",
      "metadata": {
        "colab": {
          "base_uri": "https://localhost:8080/"
        },
        "id": "ssyOE4vFuhLA",
        "outputId": "046dda2e-3845-46aa-e41d-03680acf9ad7"
      },
      "outputs": [
        {
          "name": "stdout",
          "output_type": "stream",
          "text": [
            "------------------------------------------------------------\n",
            "X\t\t 0 \t\t1\n",
            "P(X)\t\t0.8\t\t0.2\n",
            "P(X)\t\t0.8\t\t 1.0\n",
            "\n",
            "\n",
            "------------------------------------------------------------\n",
            "N°\t\tRi\t\tXi\t\tEvento\n",
            "------------------------------------------------------------\n",
            "1\t\t0.59375\t\t0\t\tNo Falla\n",
            "2\t\t0.28125\t\t0\t\tNo Falla\n",
            "3\t\t0.71875\t\t0\t\tNo Falla\n",
            "4\t\t0.90625\t\t1\t\tFalla\n",
            "5\t\t0.84375\t\t1\t\tFalla\n",
            "6\t\t0.53125\t\t0\t\tNo Falla\n",
            "7\t\t0.96875\t\t1\t\tFalla\n",
            "8\t\t0.15625\t\t0\t\tNo Falla\n",
            "9\t\t0.09375\t\t0\t\tNo Falla\n",
            "10\t\t0.78125\t\t0\t\tNo Falla\n"
          ]
        },
        {
          "data": {
            "image/png": "[encoded data removed]",
            "text/plain": [
              "<Figure size 432x288 with 1 Axes>"
            ]
          },
          "metadata": {
            "needs_background": "light"
          },
          "output_type": "display_data"
        },
        {
          "data": {
            "image/png": "[encoded data removed]",
            "text/plain": [
              "<Figure size 432x288 with 1 Axes>"
            ]
          },
          "metadata": {
            "needs_background": "light"
          },
          "output_type": "display_data"
        }
      ],
      "source": [
        "SEED = int(time.time())\n",
        "Ri = mixedCongruentialMethod(xo_seed = SEED)\n",
        "P0,P1 = probabilityFunction(Ri,0.8, 0.2)\n",
        "Xi = generateXi(Ri, P0)\n",
        "results()\n",
        "histogram(Xi, txt='pseudoaleatorios Discretos')\n",
        "scatter(Xi,txt='pseudoaleatorios Discretos')"
      ]
    }
  ],
  "metadata": {
    "colab": {
      "collapsed_sections": [],
      "name": "taller_3_simulacion_numeros_aleatorios.ipynb",
      "provenance": []
    },
    "kernelspec": {
      "display_name": "Python 3 (ipykernel)",
      "language": "python",
      "name": "python3"
    },
    "language_info": {
      "codemirror_mode": {
        "name": "ipython",
        "version": 3
      },
      "file_extension": ".py",
      "mimetype": "text/x-python",
      "name": "python",
      "nbconvert_exporter": "python",
      "pygments_lexer": "ipython3",
      "version": "3.8.8"
    }
  },
  "nbformat": 4,
  "nbformat_minor": 5
}

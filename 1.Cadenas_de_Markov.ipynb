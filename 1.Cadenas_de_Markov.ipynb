{
 "cells": [
  {
   "cell_type": "code",
   "execution_count": 1,
   "id": "65863b81",
   "metadata": {},
   "outputs": [],
   "source": [
    "import math as mt\n",
    "import numpy as np"
   ]
  },
  {
   "cell_type": "code",
   "execution_count": 2,
   "id": "dd51ef69",
   "metadata": {},
   "outputs": [],
   "source": [
    "N = 2\n",
    "STATE = [0,1,2,3,4,5,6,7,8,9,10] #[0, 1, 2]\n",
    "\n",
    "CONNECTED = 0.4  # 0.2\n",
    "DISCONNECTED = 0.3  # 0.5\n",
    "\n",
    "NOT_CONNECTED = 0.6  # 0.8 no se conecta \n",
    "NOT_DISCONNECTED = 0.7  # 0.5 no se desconecta"
   ]
  },
  {
   "cell_type": "code",
   "execution_count": 3,
   "id": "e31cf9a0",
   "metadata": {},
   "outputs": [],
   "source": [
    "def showValues(x,row):\n",
    "    for i,v in enumerate(row):\n",
    "        print(f\"P{x}{i} \", v)\n",
    "\n",
    "    print(\"\\nSUM: \",np.sum(row))"
   ]
  },
  {
   "cell_type": "code",
   "execution_count": 4,
   "id": "4f3415a6",
   "metadata": {},
   "outputs": [],
   "source": [
    "def binomialDistribution(p, x):\n",
    "    return mt.comb(N, x)*mt.pow(p, x)*mt.pow((1 - p), (N - x))"
   ]
  },
  {
   "cell_type": "code",
   "execution_count": 5,
   "id": "9f691750",
   "metadata": {},
   "outputs": [],
   "source": [
    "def calculateTransition(x,show = True):\n",
    "    row_left = np.array([binomialDistribution(NOT_CONNECTED * DISCONNECTED,s) for s in STATE[:x]])\n",
    "    row_identical = np.array([binomialDistribution((CONNECTED * DISCONNECTED) + (NOT_CONNECTED * NOT_DISCONNECTED),x)])\n",
    "    row_right = np.array([binomialDistribution(CONNECTED * NOT_DISCONNECTED,s) for s in STATE[x+1:]])\n",
    "    \n",
    "    row = np.concatenate((row_left, row_identical,row_right), axis=0)\n",
    "    \n",
    "    if(show):\n",
    "        showValues(x,row)\n",
    "    \n",
    "    return row"
   ]
  },
  {
   "cell_type": "markdown",
   "id": "939c6927",
   "metadata": {},
   "source": [
    "### EJERICIO EN CLASE"
   ]
  },
  {
   "cell_type": "code",
   "execution_count": 6,
   "id": "8b7c5431",
   "metadata": {},
   "outputs": [
    {
     "name": "stdout",
     "output_type": "stream",
     "text": [
      "ROW 1 X(0) = 0 \n",
      "\n",
      "P00  0.36\n",
      "P01  0.48\n",
      "P02  0.16000000000000003\n",
      "\n",
      "SUM:  1.0\n"
     ]
    }
   ],
   "source": [
    "print(\"ROW 1 X(0) = 0 \\n\")\n",
    "total = 0\n",
    "for s in STATE[:3]:\n",
    "    result = binomialDistribution(CONNECTED, s)\n",
    "    total += result \n",
    "    print(f\"P0{s} \",result)\n",
    "    \n",
    "print(\"\\nSUM: \",total)"
   ]
  },
  {
   "cell_type": "code",
   "execution_count": 7,
   "id": "15f16268",
   "metadata": {},
   "outputs": [
    {
     "name": "stdout",
     "output_type": "stream",
     "text": [
      "ROW 2 X(0) = 1 \n",
      "\n",
      "P10  0.18\n",
      "P11  0.54\n",
      "P12  0.27999999999999997\n",
      "\n",
      "SUM:  1.0\n"
     ]
    }
   ],
   "source": [
    "print(\"ROW 2 X(0) = 1 \\n\")\n",
    "\n",
    "p10 = NOT_CONNECTED * DISCONNECTED\n",
    "p11 = (CONNECTED * DISCONNECTED) + (NOT_CONNECTED * NOT_DISCONNECTED)\n",
    "p12 = CONNECTED * NOT_DISCONNECTED\n",
    "\n",
    "print(\"P10 \", p10)\n",
    "print(\"P11 \", p11)\n",
    "print(\"P12 \", p12)\n",
    "print(\"\\nSUM: \", p10 + p11 + p12)"
   ]
  },
  {
   "cell_type": "code",
   "execution_count": 8,
   "id": "f162e1bd",
   "metadata": {},
   "outputs": [
    {
     "name": "stdout",
     "output_type": "stream",
     "text": [
      "ROW 3 X(0) = 2 \n",
      "\n",
      "P20  0.09000000000000002\n",
      "P21  0.42000000000000004\n",
      "P22  0.48999999999999994\n",
      "\n",
      "SUM:  1.0\n"
     ]
    }
   ],
   "source": [
    "print(\"ROW 3 X(0) = 2 \\n\")\n",
    "total = 0\n",
    "for s in STATE[:3]:\n",
    "    result = binomialDistribution(NOT_DISCONNECTED, s)\n",
    "    total += result \n",
    "    print(f\"P2{s} \",result)\n",
    "\n",
    "print(\"\\nSUM: \",total)"
   ]
  },
  {
   "cell_type": "markdown",
   "id": "7e40d2ca",
   "metadata": {},
   "source": [
    "### CON 10 USUARIOS"
   ]
  },
  {
   "cell_type": "code",
   "execution_count": 9,
   "id": "c5ad6fce",
   "metadata": {},
   "outputs": [],
   "source": [
    "N = 10"
   ]
  },
  {
   "cell_type": "markdown",
   "id": "6be8276d",
   "metadata": {},
   "source": [
    "#### CALCULAR LA MATRIZ DE TRANSICION"
   ]
  },
  {
   "cell_type": "code",
   "execution_count": 10,
   "id": "09cb5f14",
   "metadata": {},
   "outputs": [],
   "source": [
    "transition_matrix = np.empty((0,11), int)"
   ]
  },
  {
   "cell_type": "markdown",
   "id": "3a68a70c",
   "metadata": {},
   "source": [
    "#### P0"
   ]
  },
  {
   "cell_type": "code",
   "execution_count": 11,
   "id": "8d06de44",
   "metadata": {
    "scrolled": false
   },
   "outputs": [
    {
     "name": "stdout",
     "output_type": "stream",
     "text": [
      "P00  0.006046617599999997\n",
      "P01  0.04031078399999999\n",
      "P02  0.12093235199999998\n",
      "P03  0.21499084799999998\n",
      "P04  0.250822656\n",
      "P05  0.2006581248\n",
      "P06  0.11147673600000005\n",
      "P07  0.042467328000000006\n",
      "P08  0.010616832000000005\n",
      "P09  0.0015728640000000009\n",
      "P010  0.00010485760000000006\n",
      "\n",
      "SUM:  1.0\n"
     ]
    }
   ],
   "source": [
    "X = 0\n",
    "P0 = np.array([binomialDistribution(CONNECTED,s) for s in STATE])\n",
    "showValues(X,P0)"
   ]
  },
  {
   "cell_type": "code",
   "execution_count": 12,
   "id": "912b2fbb",
   "metadata": {},
   "outputs": [],
   "source": [
    "transition_matrix = np.append(transition_matrix, np.array([P0]), axis=0)"
   ]
  },
  {
   "cell_type": "markdown",
   "id": "d248e701",
   "metadata": {},
   "source": [
    "#### P1 a P9"
   ]
  },
  {
   "cell_type": "code",
   "execution_count": 13,
   "id": "fdc7f9ed",
   "metadata": {
    "scrolled": true
   },
   "outputs": [
    {
     "name": "stdout",
     "output_type": "stream",
     "text": [
      "X = 1 \n",
      "\n",
      "P10  0.1374480313359607\n",
      "P11  0.004979826878412899\n",
      "P12  0.2547936192897219\n",
      "P13  0.2642304200041561\n",
      "P14  0.17982348028060616\n",
      "P15  0.08391762413094955\n",
      "P16  0.027195526338733653\n",
      "P17  0.006043450297496366\n",
      "P18  0.0008813365017182201\n",
      "P19  7.616488286453752e-05\n",
      "P110  2.961967666954237e-06\n",
      "\n",
      "SUM:  0.9593924419082869\n",
      "---------------------------------------- \n",
      "\n",
      "X = 2 \n",
      "\n",
      "P20  0.1374480313359607\n",
      "P21  0.3017151907374746\n",
      "P22  0.026306476770746406\n",
      "P23  0.2642304200041561\n",
      "P24  0.17982348028060616\n",
      "P25  0.08391762413094955\n",
      "P26  0.027195526338733653\n",
      "P27  0.006043450297496366\n",
      "P28  0.0008813365017182201\n",
      "P29  7.616488286453752e-05\n",
      "P210  2.961967666954237e-06\n",
      "\n",
      "SUM:  1.027640663248373\n",
      "---------------------------------------- \n",
      "\n",
      "X = 3 \n",
      "\n",
      "P30  0.1374480313359607\n",
      "P31  0.3017151907374746\n",
      "P32  0.2980357371918957\n",
      "P33  0.08235070989103223\n",
      "P34  0.17982348028060616\n",
      "P35  0.08391762413094955\n",
      "P36  0.027195526338733653\n",
      "P37  0.006043450297496366\n",
      "P38  0.0008813365017182201\n",
      "P39  7.616488286453752e-05\n",
      "P310  2.961967666954237e-06\n",
      "\n",
      "SUM:  1.1174902135563984\n",
      "---------------------------------------- \n",
      "\n",
      "X = 4 \n",
      "\n",
      "P40  0.1374480313359607\n",
      "P41  0.3017151907374746\n",
      "P42  0.2980357371918957\n",
      "P43  0.17445994372208523\n",
      "P44  0.16917700184135973\n",
      "P45  0.08391762413094955\n",
      "P46  0.027195526338733653\n",
      "P47  0.006043450297496366\n",
      "P48  0.0008813365017182201\n",
      "P49  7.616488286453752e-05\n",
      "P410  2.961967666954237e-06\n",
      "\n",
      "SUM:  1.198952968948205\n",
      "---------------------------------------- \n",
      "\n",
      "X = 5 \n",
      "\n",
      "P50  0.1374480313359607\n",
      "P51  0.3017151907374746\n",
      "P52  0.2980357371918957\n",
      "P53  0.17445994372208523\n",
      "P54  0.06701814911275225\n",
      "P55  0.23831890694174163\n",
      "P56  0.027195526338733653\n",
      "P57  0.006043450297496366\n",
      "P58  0.0008813365017182201\n",
      "P59  7.616488286453752e-05\n",
      "P510  2.961967666954237e-06\n",
      "\n",
      "SUM:  1.2511953990303897\n",
      "---------------------------------------- \n",
      "\n",
      "X = 6 \n",
      "\n",
      "P60  0.1374480313359607\n",
      "P61  0.3017151907374746\n",
      "P62  0.2980357371918957\n",
      "P63  0.17445994372208523\n",
      "P64  0.06701814911275225\n",
      "P65  0.01765356122970059\n",
      "P66  0.23313806113866023\n",
      "P67  0.006043450297496366\n",
      "P68  0.0008813365017182201\n",
      "P69  7.616488286453752e-05\n",
      "P610  2.961967666954237e-06\n",
      "\n",
      "SUM:  1.2364725881182752\n",
      "---------------------------------------- \n",
      "\n",
      "X = 7 \n",
      "\n",
      "P70  0.1374480313359607\n",
      "P71  0.3017151907374746\n",
      "P72  0.2980357371918957\n",
      "P73  0.17445994372208523\n",
      "P74  0.06701814911275225\n",
      "P75  0.01765356122970059\n",
      "P76  0.0032293099810427905\n",
      "P77  0.1563907490868032\n",
      "P78  0.0008813365017182201\n",
      "P79  7.616488286453752e-05\n",
      "P710  2.961967666954237e-06\n",
      "\n",
      "SUM:  1.1569111357499646\n",
      "---------------------------------------- \n",
      "\n",
      "X = 8 \n",
      "\n",
      "P80  0.1374480313359607\n",
      "P81  0.3017151907374746\n",
      "P82  0.2980357371918957\n",
      "P83  0.17445994372208523\n",
      "P84  0.06701814911275225\n",
      "P85  0.01765356122970059\n",
      "P86  0.0032293099810427905\n",
      "P87  0.0004050702415245311\n",
      "P88  0.06884592758712532\n",
      "P89  7.616488286453752e-05\n",
      "P810  2.961967666954237e-06\n",
      "\n",
      "SUM:  1.0688900479900931\n",
      "---------------------------------------- \n",
      "\n",
      "X = 9 \n",
      "\n",
      "P90  0.1374480313359607\n",
      "P91  0.3017151907374746\n",
      "P92  0.2980357371918957\n",
      "P93  0.17445994372208523\n",
      "P94  0.06701814911275225\n",
      "P95  0.01765356122970059\n",
      "P96  0.0032293099810427905\n",
      "P97  0.0004050702415245311\n",
      "P98  3.3344196710860794e-05\n",
      "P99  0.01795980719664139\n",
      "P910  2.961967666954237e-06\n",
      "\n",
      "SUM:  1.0179611069134555\n",
      "---------------------------------------- \n",
      "\n"
     ]
    }
   ],
   "source": [
    "for s in STATE[1:-1]:\n",
    "    print(f\"X = {s}\",\"\\n\")\n",
    "    transition_matrix = np.append(transition_matrix, np.array([calculateTransition(s)]), axis=0)\n",
    "    print(40*\"-\",\"\\n\")"
   ]
  },
  {
   "cell_type": "markdown",
   "id": "36fad3f3",
   "metadata": {},
   "source": [
    "#### P10"
   ]
  },
  {
   "cell_type": "code",
   "execution_count": 14,
   "id": "55d7b5ab",
   "metadata": {},
   "outputs": [
    {
     "name": "stdout",
     "output_type": "stream",
     "text": [
      "P100  0.006046617599999997\n",
      "P101  0.04031078399999999\n",
      "P102  0.12093235199999998\n",
      "P103  0.21499084799999998\n",
      "P104  0.250822656\n",
      "P105  0.2006581248\n",
      "P106  0.11147673600000005\n",
      "P107  0.042467328000000006\n",
      "P108  0.010616832000000005\n",
      "P109  0.0015728640000000009\n",
      "P1010  0.00010485760000000006\n",
      "\n",
      "SUM:  1.0\n"
     ]
    }
   ],
   "source": [
    "X = 10\n",
    "P10 = np.array([binomialDistribution(CONNECTED,s) for s in STATE])\n",
    "showValues(X,P10)"
   ]
  },
  {
   "cell_type": "code",
   "execution_count": 15,
   "id": "0c074fdc",
   "metadata": {},
   "outputs": [],
   "source": [
    "transition_matrix = np.append(transition_matrix, np.array([P10]), axis=0)"
   ]
  },
  {
   "cell_type": "markdown",
   "id": "2b70f749",
   "metadata": {},
   "source": [
    "#### Matriz transicion"
   ]
  },
  {
   "cell_type": "code",
   "execution_count": 16,
   "id": "dab8afc2",
   "metadata": {},
   "outputs": [
    {
     "data": {
      "text/plain": [
       "array([[6.04661760e-03, 4.03107840e-02, 1.20932352e-01, 2.14990848e-01,\n",
       "        2.50822656e-01, 2.00658125e-01, 1.11476736e-01, 4.24673280e-02,\n",
       "        1.06168320e-02, 1.57286400e-03, 1.04857600e-04],\n",
       "       [1.37448031e-01, 4.97982688e-03, 2.54793619e-01, 2.64230420e-01,\n",
       "        1.79823480e-01, 8.39176241e-02, 2.71955263e-02, 6.04345030e-03,\n",
       "        8.81336502e-04, 7.61648829e-05, 2.96196767e-06],\n",
       "       [1.37448031e-01, 3.01715191e-01, 2.63064768e-02, 2.64230420e-01,\n",
       "        1.79823480e-01, 8.39176241e-02, 2.71955263e-02, 6.04345030e-03,\n",
       "        8.81336502e-04, 7.61648829e-05, 2.96196767e-06],\n",
       "       [1.37448031e-01, 3.01715191e-01, 2.98035737e-01, 8.23507099e-02,\n",
       "        1.79823480e-01, 8.39176241e-02, 2.71955263e-02, 6.04345030e-03,\n",
       "        8.81336502e-04, 7.61648829e-05, 2.96196767e-06],\n",
       "       [1.37448031e-01, 3.01715191e-01, 2.98035737e-01, 1.74459944e-01,\n",
       "        1.69177002e-01, 8.39176241e-02, 2.71955263e-02, 6.04345030e-03,\n",
       "        8.81336502e-04, 7.61648829e-05, 2.96196767e-06],\n",
       "       [1.37448031e-01, 3.01715191e-01, 2.98035737e-01, 1.74459944e-01,\n",
       "        6.70181491e-02, 2.38318907e-01, 2.71955263e-02, 6.04345030e-03,\n",
       "        8.81336502e-04, 7.61648829e-05, 2.96196767e-06],\n",
       "       [1.37448031e-01, 3.01715191e-01, 2.98035737e-01, 1.74459944e-01,\n",
       "        6.70181491e-02, 1.76535612e-02, 2.33138061e-01, 6.04345030e-03,\n",
       "        8.81336502e-04, 7.61648829e-05, 2.96196767e-06],\n",
       "       [1.37448031e-01, 3.01715191e-01, 2.98035737e-01, 1.74459944e-01,\n",
       "        6.70181491e-02, 1.76535612e-02, 3.22930998e-03, 1.56390749e-01,\n",
       "        8.81336502e-04, 7.61648829e-05, 2.96196767e-06],\n",
       "       [1.37448031e-01, 3.01715191e-01, 2.98035737e-01, 1.74459944e-01,\n",
       "        6.70181491e-02, 1.76535612e-02, 3.22930998e-03, 4.05070242e-04,\n",
       "        6.88459276e-02, 7.61648829e-05, 2.96196767e-06],\n",
       "       [1.37448031e-01, 3.01715191e-01, 2.98035737e-01, 1.74459944e-01,\n",
       "        6.70181491e-02, 1.76535612e-02, 3.22930998e-03, 4.05070242e-04,\n",
       "        3.33441967e-05, 1.79598072e-02, 2.96196767e-06],\n",
       "       [6.04661760e-03, 4.03107840e-02, 1.20932352e-01, 2.14990848e-01,\n",
       "        2.50822656e-01, 2.00658125e-01, 1.11476736e-01, 4.24673280e-02,\n",
       "        1.06168320e-02, 1.57286400e-03, 1.04857600e-04]])"
      ]
     },
     "execution_count": 16,
     "metadata": {},
     "output_type": "execute_result"
    }
   ],
   "source": [
    "transition_matrix"
   ]
  },
  {
   "cell_type": "code",
   "execution_count": 17,
   "id": "12a3294a",
   "metadata": {},
   "outputs": [
    {
     "data": {
      "text/plain": [
       "(11, 11)"
      ]
     },
     "execution_count": 17,
     "metadata": {},
     "output_type": "execute_result"
    }
   ],
   "source": [
    "transition_matrix.shape"
   ]
  },
  {
   "cell_type": "code",
   "execution_count": 18,
   "id": "ad634d41",
   "metadata": {},
   "outputs": [],
   "source": [
    "states_matrix = np.array([STATE])\n",
    "result = states_matrix.dot(transition_matrix)"
   ]
  },
  {
   "cell_type": "code",
   "execution_count": 19,
   "id": "acc83ca3",
   "metadata": {},
   "outputs": [
    {
     "data": {
      "text/plain": [
       "array([[6.24562759e+00, 1.36835561e+01, 1.40342311e+01, 9.99358967e+00,\n",
       "        6.60951067e+00, 4.56695886e+00, 2.99903206e+00, 1.65320717e+00,\n",
       "        6.81913261e-01, 1.80108841e-01, 1.18186455e-03]])"
      ]
     },
     "execution_count": 19,
     "metadata": {},
     "output_type": "execute_result"
    }
   ],
   "source": [
    "result"
   ]
  },
  {
   "cell_type": "code",
   "execution_count": 20,
   "id": "1204274b",
   "metadata": {},
   "outputs": [
    {
     "name": "stdout",
     "output_type": "stream",
     "text": [
      "0 = 6.245627586118232\n",
      "1 = 13.683556059327296\n",
      "2 = 14.034231054890833\n",
      "3 = 9.993589674846888\n",
      "4 = 6.609510667995404\n",
      "5 = 4.566958860909221\n",
      "6 = 2.9990320614579935\n",
      "7 = 1.653207173960963\n",
      "8 = 0.6819132605155106\n",
      "9 = 0.18010884055289586\n",
      "10 = 0.0011818645450129412\n"
     ]
    }
   ],
   "source": [
    "for i,v in enumerate(result[0]):\n",
    "    print(f\"{i} = {v}\")"
   ]
  },
  {
   "cell_type": "code",
   "execution_count": 21,
   "id": "d6d633ce",
   "metadata": {},
   "outputs": [],
   "source": [
    "state = {\n",
    "    0: \"0 user\",\n",
    "    1: \"1 user\",\n",
    "    2: \"2 user\",\n",
    "    3: \"3 user\",\n",
    "    4: \"4 user\",\n",
    "    5: \"5 user\",\n",
    "    6: \"6 user\",\n",
    "    7: \"7 user\",\n",
    "    8: \"8 user\",\n",
    "    9: \"9 user\",\n",
    "    10: \"10 user\",\n",
    "}"
   ]
  },
  {
   "cell_type": "code",
   "execution_count": 22,
   "id": "1e0b46ee",
   "metadata": {},
   "outputs": [
    {
     "name": "stdout",
     "output_type": "stream",
     "text": [
      "0 user ---> 2 user ---> "
     ]
    },
    {
     "ename": "ValueError",
     "evalue": "probabilities do not sum to 1",
     "output_type": "error",
     "traceback": [
      "\u001b[1;31m---------------------------------------------------------------------------\u001b[0m",
      "\u001b[1;31mValueError\u001b[0m                                Traceback (most recent call last)",
      "\u001b[1;32m<ipython-input-22-dd17f844fc38>\u001b[0m in \u001b[0;36m<module>\u001b[1;34m\u001b[0m\n\u001b[0;32m      5\u001b[0m \u001b[1;33m\u001b[0m\u001b[0m\n\u001b[0;32m      6\u001b[0m \u001b[1;32mwhile\u001b[0m \u001b[0mn\u001b[0m\u001b[1;33m-\u001b[0m\u001b[1;36m1\u001b[0m\u001b[1;33m:\u001b[0m\u001b[1;33m\u001b[0m\u001b[1;33m\u001b[0m\u001b[0m\n\u001b[1;32m----> 7\u001b[1;33m     \u001b[0mcurr_state\u001b[0m \u001b[1;33m=\u001b[0m \u001b[0mnp\u001b[0m\u001b[1;33m.\u001b[0m\u001b[0mrandom\u001b[0m\u001b[1;33m.\u001b[0m\u001b[0mchoice\u001b[0m\u001b[1;33m(\u001b[0m\u001b[0mSTATE\u001b[0m\u001b[1;33m,\u001b[0m\u001b[0mp\u001b[0m \u001b[1;33m=\u001b[0m \u001b[0mtransition_matrix\u001b[0m\u001b[1;33m[\u001b[0m\u001b[0mprev_state\u001b[0m\u001b[1;33m]\u001b[0m\u001b[1;33m)\u001b[0m\u001b[1;33m\u001b[0m\u001b[1;33m\u001b[0m\u001b[0m\n\u001b[0m\u001b[0;32m      8\u001b[0m     \u001b[0mprint\u001b[0m\u001b[1;33m(\u001b[0m\u001b[0mstate\u001b[0m\u001b[1;33m[\u001b[0m\u001b[0mcurr_state\u001b[0m\u001b[1;33m]\u001b[0m\u001b[1;33m,\u001b[0m \u001b[1;34m\"--->\"\u001b[0m\u001b[1;33m,\u001b[0m \u001b[0mend\u001b[0m \u001b[1;33m=\u001b[0m \u001b[1;34m\" \"\u001b[0m\u001b[1;33m)\u001b[0m\u001b[1;33m\u001b[0m\u001b[1;33m\u001b[0m\u001b[0m\n\u001b[0;32m      9\u001b[0m     \u001b[0mprev_state\u001b[0m \u001b[1;33m=\u001b[0m \u001b[0mcurr_state\u001b[0m\u001b[1;33m\u001b[0m\u001b[1;33m\u001b[0m\u001b[0m\n",
      "\u001b[1;32mmtrand.pyx\u001b[0m in \u001b[0;36mnumpy.random.mtrand.RandomState.choice\u001b[1;34m()\u001b[0m\n",
      "\u001b[1;31mValueError\u001b[0m: probabilities do not sum to 1"
     ]
    }
   ],
   "source": [
    "n = 15\n",
    "start_state = 0\n",
    "print(state[start_state], \"--->\", end = \" \")\n",
    "prev_state = start_state\n",
    "\n",
    "while n-1:\n",
    "    curr_state = np.random.choice(STATE,p = transition_matrix[prev_state])\n",
    "    print(state[curr_state], \"--->\", end = \" \")\n",
    "    prev_state = curr_state\n",
    "    n -=1\n",
    "\n",
    "print(\"stop\")"
   ]
  },
  {
   "cell_type": "code",
   "execution_count": null,
   "id": "b084f2d9",
   "metadata": {},
   "outputs": [],
   "source": []
  },
  {
   "cell_type": "code",
   "execution_count": null,
   "id": "1c0d3190",
   "metadata": {},
   "outputs": [],
   "source": [
    "X1 = np.array([\n",
    "    (NOT_CONNECTED * DISCONNECTED),\n",
    "    (CONNECTED * DISCONNECTED) + (NOT_CONNECTED * NOT_DISCONNECTED),\n",
    "    (CONNECTED * NOT_DISCONNECTED)/9,\n",
    "    (CONNECTED * NOT_DISCONNECTED)/9,\n",
    "    (CONNECTED * NOT_DISCONNECTED)/9,\n",
    "    (CONNECTED * NOT_DISCONNECTED)/9,\n",
    "    (CONNECTED * NOT_DISCONNECTED)/9,\n",
    "    (CONNECTED * NOT_DISCONNECTED)/9,\n",
    "    (CONNECTED * NOT_DISCONNECTED)/9,\n",
    "    (CONNECTED * NOT_DISCONNECTED)/9,\n",
    "    (CONNECTED * NOT_DISCONNECTED)/9])\n",
    "\n",
    "for i,v in enumerate(X1):\n",
    "    print(f\"P1{i} \", v)\n",
    "\n",
    "print(\"\\nSUM: \",np.sum(X1))"
   ]
  },
  {
   "cell_type": "code",
   "execution_count": null,
   "id": "36ff61e1",
   "metadata": {},
   "outputs": [],
   "source": [
    "X2 = np.array([\n",
    "    (NOT_CONNECTED * DISCONNECTED), # 0\n",
    "    (DISCONNECTED * NOT_CONNECTED),    \n",
    "    (CONNECTED * DISCONNECTED) + (NOT_CONNECTED * NOT_DISCONNECTED),\n",
    "    (CONNECTED * NOT_DISCONNECTED) /10,\n",
    "    (CONNECTED * NOT_DISCONNECTED) /10,\n",
    "    (CONNECTED * NOT_DISCONNECTED) /10,\n",
    "    (CONNECTED * NOT_DISCONNECTED) /10,\n",
    "    (CONNECTED * NOT_DISCONNECTED) /10,\n",
    "    (CONNECTED * NOT_DISCONNECTED) /10,\n",
    "    (CONNECTED * NOT_DISCONNECTED) /10,\n",
    "    (CONNECTED * NOT_DISCONNECTED) /10,\n",
    "])\n",
    "\n",
    "for i,v in enumerate(X2):\n",
    "    print(f\"P2{i} \", v)\n",
    "\n",
    "print(\"\\nSUM: \",np.sum(X2))"
   ]
  },
  {
   "cell_type": "code",
   "execution_count": null,
   "id": "6d77f916",
   "metadata": {},
   "outputs": [],
   "source": [
    "#p = (CONNECTED)*(DISCONNECTED + NOT_DISCONNECTED)\n",
    "#r1 = np.array([binomialDistribution(p,s) for s in STATE])\n",
    "#print(r1, end = '\\n\\n');\n",
    "#print(\"SUM: \",np.sum(r1))"
   ]
  },
  {
   "cell_type": "code",
   "execution_count": null,
   "id": "548cce2f",
   "metadata": {},
   "outputs": [],
   "source": []
  }
 ],
 "metadata": {
  "kernelspec": {
   "display_name": "Python 3 (ipykernel)",
   "language": "python",
   "name": "python3"
  },
  "language_info": {
   "codemirror_mode": {
    "name": "ipython",
    "version": 3
   },
   "file_extension": ".py",
   "mimetype": "text/x-python",
   "name": "python",
   "nbconvert_exporter": "python",
   "pygments_lexer": "ipython3",
   "version": "3.9.7"
  }
 },
 "nbformat": 4,
 "nbformat_minor": 5
}

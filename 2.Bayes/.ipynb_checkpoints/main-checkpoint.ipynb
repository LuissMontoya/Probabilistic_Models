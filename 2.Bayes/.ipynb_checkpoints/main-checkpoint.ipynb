{
 "cells": [
  {
   "cell_type": "code",
   "execution_count": 1,
   "id": "fef808ca",
   "metadata": {
    "scrolled": true
   },
   "outputs": [],
   "source": [
    "import math\n",
    "from math import *\n",
    "import random\n",
    "import csv"
   ]
  },
  {
   "cell_type": "code",
   "execution_count": 2,
   "id": "b6369eba",
   "metadata": {},
   "outputs": [],
   "source": [
    "# los nombres de las clases categóricas se cambian a datos numéricos\n",
    "# por ejemplo: sí y no codificados en 1 y 0\n",
    "def encodeClass(mydata):\n",
    "    classes = []\n",
    "    for i in range(len(mydata)):\n",
    "        if mydata[i][-1] not in classes:\n",
    "            classes.append(mydata[i][-1])\n",
    "    for i in range(len(classes)):\n",
    "        for j in range(len(mydata)):\n",
    "            if mydata[j][-1] == classes[i]:\n",
    "                mydata[j][-1] = i\n",
    "    return mydata                   "
   ]
  },
  {
   "cell_type": "code",
   "execution_count": 3,
   "id": "e9789255",
   "metadata": {},
   "outputs": [],
   "source": [
    "# Divide los datos\n",
    "def splitting(mydata, ratio):\n",
    "    train_num = int(len(mydata) * ratio)\n",
    "    train = []\n",
    "    # initially testset will have all the dataset\n",
    "    test = list(mydata)\n",
    "    while len(train) < train_num:\n",
    "        # index generated randomly from range 0\n",
    "        # to length of testset\n",
    "        index = random.randrange(len(test))\n",
    "        # from testset, pop data rows and put it in train\n",
    "        train.append(test.pop(index))\n",
    "    return train, test"
   ]
  },
  {
   "cell_type": "code",
   "execution_count": 4,
   "id": "0bd9dae3",
   "metadata": {},
   "outputs": [],
   "source": [
    "# Group the data rows under each class yes or\n",
    "# no in dictionary eg: dict[yes] and dict[no]\n",
    "def groupUnderClass(mydata):\n",
    "      dict = {}\n",
    "      for i in range(len(mydata)):\n",
    "          if (mydata[i][-1] not in dict):\n",
    "              dict[mydata[i][-1]] = []\n",
    "          dict[mydata[i][-1]].append(mydata[i])\n",
    "      return dict\n",
    " "
   ]
  },
  {
   "cell_type": "code",
   "execution_count": 5,
   "id": "91f23f4b",
   "metadata": {},
   "outputs": [],
   "source": [
    "# Calculating Mean\n",
    "def mean(numbers):\n",
    "    return sum(numbers)/float(len(numbers))"
   ]
  },
  {
   "cell_type": "code",
   "execution_count": 6,
   "id": "568bf595",
   "metadata": {},
   "outputs": [],
   "source": [
    "# Calculating Standard Deviation\n",
    "def std_dev(numbers):\n",
    "    avg = mean(numbers)\n",
    "    variance = sum([pow(x - avg, 2) for x in numbers]) / (len(numbers) - 1)\n",
    "    return math.sqrt(variance)"
   ]
  },
  {
   "cell_type": "code",
   "execution_count": 7,
   "id": "e5a4d598",
   "metadata": {},
   "outputs": [],
   "source": [
    "def meanAndStdDev(mydata):\n",
    "    info = [(mean(attribute), std_dev(attribute)) for attribute in zip(*mydata)]\n",
    "    # eg: list = [ [a, b, c], [m, n, o], [x, y, z]]\n",
    "    # here mean of 1st attribute =(a + m+x), mean of 2nd attribute = (b + n+y)/3\n",
    "    # delete summaries of last class\n",
    "    del info[-1]\n",
    "    return info"
   ]
  },
  {
   "cell_type": "code",
   "execution_count": 8,
   "id": "3ffff847",
   "metadata": {},
   "outputs": [],
   "source": [
    "# find Mean and Standard Deviation under each class\n",
    "def meanAndStdDevForClass(mydata):\n",
    "    info = {}\n",
    "    dict = groupUnderClass(mydata)\n",
    "    for classValue, instances in dict.items():\n",
    "        info[classValue] = meanAndStdDev(instances)\n",
    "    return info"
   ]
  },
  {
   "cell_type": "code",
   "execution_count": 9,
   "id": "25c7de7c",
   "metadata": {},
   "outputs": [],
   "source": [
    "# Calculate Gaussian Probability Density Function\n",
    "def calculateGaussianProbability(x, mean, stdev):\n",
    "    expo = exp(-((x - mean) ** 2) / (2 * stdev ** 2))\n",
    "    return (1 / (sqrt(2 * pi) * stdev)) * expo"
   ]
  },
  {
   "cell_type": "code",
   "execution_count": 10,
   "id": "68f4c429",
   "metadata": {},
   "outputs": [],
   "source": [
    "# Calculate Class Probabilities\n",
    "def calculateClassProbabilities(info, test):\n",
    "    probabilities = {}\n",
    "    for classValue, classSummaries in info.items():\n",
    "        probabilities[classValue] = 1\n",
    "        for i in range(len(classSummaries)):\n",
    "            mean, std_dev = classSummaries[i]\n",
    "            x = test[i]\n",
    "            probabilities[classValue] *= calculateGaussianProbability(x, mean, std_dev)\n",
    "    return probabilities"
   ]
  },
  {
   "cell_type": "code",
   "execution_count": 11,
   "id": "be1621ce",
   "metadata": {},
   "outputs": [],
   "source": [
    "# Make prediction - highest probability is the prediction\n",
    "def predict(info, test):\n",
    "    probabilities = calculateClassProbabilities(info, test)\n",
    "    bestLabel, bestProb = None, -1\n",
    "    for classValue, probability in probabilities.items():\n",
    "        if bestLabel is None or probability > bestProb:\n",
    "            bestProb = probability\n",
    "            bestLabel = classValue\n",
    "    return bestLabel"
   ]
  },
  {
   "cell_type": "code",
   "execution_count": 12,
   "id": "c465f603",
   "metadata": {},
   "outputs": [],
   "source": [
    "# returns predictions for a set of examples\n",
    "def getPredictions(info, test):\n",
    "    predictions = []\n",
    "    for i in range(len(test)):\n",
    "        result = predict(info, test[i])\n",
    "        predictions.append(result)\n",
    "    return predictions"
   ]
  },
  {
   "cell_type": "code",
   "execution_count": 13,
   "id": "0b30f523",
   "metadata": {},
   "outputs": [],
   "source": [
    "# Accuracy score\n",
    "def accuracy_rate(test, predictions):\n",
    "    correct = 0\n",
    "    for i in range(len(test)):\n",
    "        if test[i][-1] == predictions[i]:\n",
    "            correct += 1\n",
    "    return (correct / float(len(test))) * 100.0"
   ]
  },
  {
   "cell_type": "code",
   "execution_count": 14,
   "id": "33c1ebe5",
   "metadata": {},
   "outputs": [],
   "source": [
    "# add the data path in your system\n",
    "filename = r'Breast_cancer_data.csv'"
   ]
  },
  {
   "cell_type": "code",
   "execution_count": 15,
   "id": "46c503ab",
   "metadata": {},
   "outputs": [],
   "source": [
    "# load the file and store it in mydata list\n",
    "mydata = csv.reader(open(filename, \"rt\"))\n",
    "mydata = list(mydata)\n",
    "del mydata[0]\n",
    "#mydata = encodeClass(mydata)\n",
    "\n",
    "#normalize the data\n",
    "for i in range(len(mydata)):\n",
    "    mydata[i] = [float(x) for x in mydata[i]]"
   ]
  },
  {
   "cell_type": "code",
   "execution_count": 16,
   "id": "d4901105",
   "metadata": {},
   "outputs": [
    {
     "name": "stdout",
     "output_type": "stream",
     "text": [
      "Total number of examples are:  569\n",
      "Out of these, training examples are:  398\n",
      "Test examples are:  171\n"
     ]
    }
   ],
   "source": [
    "# split ratio = 0.7\n",
    "# 70% of data is training data and 30% is test data used for testing\n",
    "ratio = 0.7\n",
    "train_data, test_data = splitting(mydata, ratio)\n",
    "print('Total number of examples are: ', len(mydata))\n",
    "print('Out of these, training examples are: ', len(train_data))\n",
    "print(\"Test examples are: \", len(test_data))"
   ]
  },
  {
   "cell_type": "code",
   "execution_count": 17,
   "id": "744a2eda",
   "metadata": {},
   "outputs": [],
   "source": [
    "# prepare model\n",
    "info = meanAndStdDevForClass(train_data)\n",
    "predictions = getPredictions(info, test_data)\n",
    "accuracy = accuracy_rate(test_data, predictions)"
   ]
  },
  {
   "cell_type": "code",
   "execution_count": 18,
   "id": "ae694468",
   "metadata": {},
   "outputs": [
    {
     "name": "stdout",
     "output_type": "stream",
     "text": [
      "Accuracy of your model is:  89.47368421052632\n"
     ]
    }
   ],
   "source": [
    "print(\"Accuracy of your model is: \", accuracy)"
   ]
  }
 ],
 "metadata": {
  "kernelspec": {
   "display_name": "Python 3",
   "language": "python",
   "name": "python3"
  },
  "language_info": {
   "codemirror_mode": {
    "name": "ipython",
    "version": 3
   },
   "file_extension": ".py",
   "mimetype": "text/x-python",
   "name": "python",
   "nbconvert_exporter": "python",
   "pygments_lexer": "ipython3",
   "version": "3.8.8"
  }
 },
 "nbformat": 4,
 "nbformat_minor": 5
}
